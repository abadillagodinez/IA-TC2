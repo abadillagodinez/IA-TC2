{
 "cells": [
  {
   "cell_type": "markdown",
   "id": "racial-reasoning",
   "metadata": {},
   "source": [
    "### Desarrollado por:\n",
    "- Jorge Gutiérrez Mata\n",
    "- Luis Adrián Badilla Godínez\n",
    "\n",
    "### Topic Summary\n",
    "- Transformación de Gauss con Scikit-learn.\n",
    "- Transformación de Gauss con Feature-Engine.\n",
    "- Discretización\n",
    "- Discretización de igual ancho.\n",
    "- Discretización de igual frecuencia.\n",
    "\n",
    "Para el desarrollo de este cuaderno se irán cubriendo los temas mencionados anteriormente. Se divide primero en teoría seguido de un ejemplo de utilización con datasets definidos. \n",
    "\n",
    "Los link de descarga para los dataset son los siguientes:\n",
    "1. abc: \n",
    "1. cde: \n",
    "1. ghi: \n",
    "1. jkl: \n",
    " \n",
    "### Transformación de Gauss con Scikit-learn.\n",
    "### Transformación de Gauss con Feature-Engine.\n",
    "\n",
    "### Discretización\n",
    "Este es un proceso que consiste de transformar variables continuas en variables discretas por medio de la creación de intervalos continuos que abarquen el rango de valores de las variables discretas.\n",
    "\n",
    "Este proceso ayuda a manejar datos atípicos colocando estos datos en los intervalos más bajos o altos. Por lo cual estas observaciones atípicas ya no difieren con el resto de los valores en las colas de distribución. \n",
    "\n",
    "Además de esto ayuda con las variables sesgadas al distribuirlas en conjuntos de intervalos con el mismo número de observaciones.\n",
    "\n",
    "### D\n",
    "\n",
    "### Discretización de igual ancho.\n",
    "### Discretización de igual frecuencia."
   ]
  }
 ],
 "metadata": {
  "kernelspec": {
   "display_name": "Python 3",
   "language": "python",
   "name": "python3"
  },
  "language_info": {
   "codemirror_mode": {
    "name": "ipython",
    "version": 3
   },
   "file_extension": ".py",
   "mimetype": "text/x-python",
   "name": "python",
   "nbconvert_exporter": "python",
   "pygments_lexer": "ipython3",
   "version": "3.9.1"
  }
 },
 "nbformat": 4,
 "nbformat_minor": 5
}

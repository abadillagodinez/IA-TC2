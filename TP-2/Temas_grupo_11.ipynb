{
 "cells": [
  {
   "cell_type": "markdown",
   "id": "acoustic-invalid",
   "metadata": {},
   "source": [
    "# Desarrollado por:\n",
    "- Jorge Gutiérrez Mata\n",
    "- Luis Adrián Badilla Godínez\n",
    "\n",
    "## Topic Summary\n",
    "- Transformación de Gauss con Scikit-learn.\n",
    "- Transformación de Gauss con Feature-Engine.\n",
    "- Discretización\n",
    "- Discretización de igual ancho.\n",
    "- Discretización de igual frecuencia.\n",
    "\n",
    "Para el desarrollo de este cuaderno se irán cubriendo los temas mencionados anteriormente. Se divide primero en teoría seguido de un ejemplo de utilización con datasets definidos. \n",
    "\n",
    "Los link de descarga para los dataset son los siguientes:\n",
    "1. abc: \n",
    "1. cde: \n",
    "1. ghi: \n",
    "1. jkl: \n",
    " \n",
    "## Transformación de Gauss con Scikit-learn.\n",
    "## Transformación de Gauss con Feature-Engine.\n",
    "\n",
    "## Discretización\n",
    "Este es un proceso que consiste de transformar variables continuas en variables discretas por medio de la creación de intervalos continuos que abarquen el rango de valores de las variables discretas.\n",
    "\n",
    "Este proceso ayuda a manejar datos atípicos colocando estos datos en los intervalos más bajos o altos. Por lo cual estas observaciones atípicas ya no difieren con el resto de los valores en las colas de distribución. \n",
    "\n",
    "Además de esto ayuda con las variables sesgadas al distribuirlas en conjuntos de intervalos con el mismo número de observaciones.\n",
    "\n",
    "Existen varios enfoques para realizar discretización de variariables. Estos se clasifican en dos:\n",
    "- Métodos no supervisados\n",
    "- Métodos supervisados\n",
    "\n",
    "Los primeros no utilizan ninguna información fuera de la distribución de las variables para crear los rangos continuos, por otro lado los segundos suelen usar información objetivo para crear estos intervalos.\n",
    "\n",
    "En este cuaderno nos enfocaremos en dos métodos de discretización no supervisada; la discretización de igual ancho y de igual frecuencia.\n",
    "\n",
    "## Discretización de igual ancho.\n",
    "Este método lo que hace es dividir el alcance de los valores en los **N** rangos de mismo ancho que se requieran. Para calcular este ancho se calcula la diferencia entre los valores límites de los datos dividido entre el número de rangos solicitados. Es decir:\n",
    "- ancho = (valor_max - valor_min)/N\n",
    "\n",
    "Por ejemplo si los datos varían entre 25 y 450, podemos tomar un N=15, para 15 intervalos de largo:\n",
    "- (450 - 25)/15 = 28.333333\n",
    "\n",
    "Por lo cual se utilizarían intervalos de ancho 28. Es importante denotar que no existe una regla general para definir N, solamente se puede determinar experimentalmente.\n",
    "\n"
   ]
  },
  {
   "cell_type": "code",
   "execution_count": null,
   "id": "qualified-mobile",
   "metadata": {},
   "outputs": [],
   "source": []
  }
 ],
 "metadata": {
  "kernelspec": {
   "display_name": "Python 3",
   "language": "python",
   "name": "python3"
  },
  "language_info": {
   "codemirror_mode": {
    "name": "ipython",
    "version": 3
   },
   "file_extension": ".py",
   "mimetype": "text/x-python",
   "name": "python",
   "nbconvert_exporter": "python",
   "pygments_lexer": "ipython3",
   "version": "3.9.1"
  }
 },
 "nbformat": 4,
 "nbformat_minor": 5
}

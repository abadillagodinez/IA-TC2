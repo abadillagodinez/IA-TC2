{
 "cells": [
  {
   "cell_type": "markdown",
   "id": "molecular-shelf",
   "metadata": {},
   "source": [
    "### Desarrollado por:\n",
    "- Jorge Gutiérrez Mata\n",
    "- Luis Adrián Badilla Godínez\n",
    "\n",
    "### Topic Summary\n",
    "- Transformación de Gauss con Scikit-learn.\n",
    "- Transformación de Gauss con Feature-Engine.\n",
    "- Discretización de igual ancho.\n",
    "- Discretización de igual frecuencia.\n",
    "\n",
    "Para el desarrollo de este cuaderno se irán cubriendo los temas mencionados anteriormente. Se divide primero en teoría seguido de un ejemplo de utilización con datasets definidos. \n",
    "\n",
    "Los link de descarga para los dataset son los siguientes:\n",
    "1. abc: \n",
    "1. cde: \n",
    "1. ghi: \n",
    "1. jkl: \n",
    " \n",
    "### Transformación de Gauss con Scikit-learn.\n",
    "### Transformación de Gauss con Feature-Engine.\n",
    "\n",
    "### Discretización de igual ancho.\n",
    "### Discretización de igual frecuencia."
   ]
  }
 ],
 "metadata": {
  "kernelspec": {
   "display_name": "Python 3",
   "language": "python",
   "name": "python3"
  },
  "language_info": {
   "codemirror_mode": {
    "name": "ipython",
    "version": 3
   },
   "file_extension": ".py",
   "mimetype": "text/x-python",
   "name": "python",
   "nbconvert_exporter": "python",
   "pygments_lexer": "ipython3",
   "version": "3.8.3"
  }
 },
 "nbformat": 4,
 "nbformat_minor": 5
}
